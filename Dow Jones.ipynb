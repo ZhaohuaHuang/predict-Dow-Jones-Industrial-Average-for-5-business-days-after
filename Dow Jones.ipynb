{
  "nbformat": 4,
  "nbformat_minor": 0,
  "metadata": {
    "colab": {
      "name": "255_hw4_rnn.ipynb",
      "provenance": []
    },
    "kernelspec": {
      "name": "python3",
      "display_name": "Python 3"
    },
    "accelerator": "GPU"
  },
  "cells": [
    {
      "cell_type": "markdown",
      "metadata": {
        "id": "BoBqB-zz5AKa"
      },
      "source": [
        "# LSTM predict Dow Jones Industrial Average for 5 business days after\n"
      ]
    },
    {
      "cell_type": "code",
      "metadata": {
        "id": "cO8P2ph14-me"
      },
      "source": [
        "import pandas_datareader.data as web"
      ],
      "execution_count": 1,
      "outputs": []
    },
    {
      "cell_type": "code",
      "metadata": {
        "id": "n-lfwdoVwFdb",
        "outputId": "1f977a9b-6d93-439e-9997-e9255377e60b",
        "colab": {
          "base_uri": "https://localhost:8080/"
        }
      },
      "source": [
        "#load data\n",
        "dataset=web.DataReader('^DJI',data_source='yahoo',start='2000-01-01')\n",
        "print(dataset.head())\n",
        "print('\\n')\n",
        "print(dataset.shape)"
      ],
      "execution_count": 2,
      "outputs": [
        {
          "output_type": "stream",
          "text": [
            "                    High           Low  ...     Volume     Adj Close\n",
            "Date                                    ...                         \n",
            "2000-01-03  11522.009766  11305.690430  ...  169750000  11357.509766\n",
            "2000-01-04  11350.059570  10986.450195  ...  178420000  10997.929688\n",
            "2000-01-05  11215.099609  10938.669922  ...  203190000  11122.650391\n",
            "2000-01-06  11313.450195  11098.450195  ...  176550000  11253.259766\n",
            "2000-01-07  11528.139648  11239.919922  ...  184900000  11522.559570\n",
            "\n",
            "[5 rows x 6 columns]\n",
            "\n",
            "\n",
            "(5251, 6)\n"
          ],
          "name": "stdout"
        }
      ]
    },
    {
      "cell_type": "code",
      "metadata": {
        "id": "_6tFOccEZ7gP",
        "outputId": "cbabf27d-f882-4cd6-fb08-be50eec321e7",
        "colab": {
          "base_uri": "https://localhost:8080/",
          "height": 220
        }
      },
      "source": [
        "dataset.tail()"
      ],
      "execution_count": 3,
      "outputs": [
        {
          "output_type": "execute_result",
          "data": {
            "text/html": [
              "<div>\n",
              "<style scoped>\n",
              "    .dataframe tbody tr th:only-of-type {\n",
              "        vertical-align: middle;\n",
              "    }\n",
              "\n",
              "    .dataframe tbody tr th {\n",
              "        vertical-align: top;\n",
              "    }\n",
              "\n",
              "    .dataframe thead th {\n",
              "        text-align: right;\n",
              "    }\n",
              "</style>\n",
              "<table border=\"1\" class=\"dataframe\">\n",
              "  <thead>\n",
              "    <tr style=\"text-align: right;\">\n",
              "      <th></th>\n",
              "      <th>High</th>\n",
              "      <th>Low</th>\n",
              "      <th>Open</th>\n",
              "      <th>Close</th>\n",
              "      <th>Volume</th>\n",
              "      <th>Adj Close</th>\n",
              "    </tr>\n",
              "    <tr>\n",
              "      <th>Date</th>\n",
              "      <th></th>\n",
              "      <th></th>\n",
              "      <th></th>\n",
              "      <th></th>\n",
              "      <th></th>\n",
              "      <th></th>\n",
              "    </tr>\n",
              "  </thead>\n",
              "  <tbody>\n",
              "    <tr>\n",
              "      <th>2020-11-06</th>\n",
              "      <td>28431.960938</td>\n",
              "      <td>28189.500000</td>\n",
              "      <td>28399.130859</td>\n",
              "      <td>28323.400391</td>\n",
              "      <td>326710000</td>\n",
              "      <td>28323.400391</td>\n",
              "    </tr>\n",
              "    <tr>\n",
              "      <th>2020-11-09</th>\n",
              "      <td>29933.830078</td>\n",
              "      <td>29130.660156</td>\n",
              "      <td>29467.900391</td>\n",
              "      <td>29157.970703</td>\n",
              "      <td>673310000</td>\n",
              "      <td>29157.970703</td>\n",
              "    </tr>\n",
              "    <tr>\n",
              "      <th>2020-11-10</th>\n",
              "      <td>29478.859375</td>\n",
              "      <td>29126.990234</td>\n",
              "      <td>29254.169922</td>\n",
              "      <td>29420.919922</td>\n",
              "      <td>526980000</td>\n",
              "      <td>29420.919922</td>\n",
              "    </tr>\n",
              "    <tr>\n",
              "      <th>2020-11-11</th>\n",
              "      <td>29593.109375</td>\n",
              "      <td>29281.220703</td>\n",
              "      <td>29524.349609</td>\n",
              "      <td>29397.630859</td>\n",
              "      <td>376700000</td>\n",
              "      <td>29397.630859</td>\n",
              "    </tr>\n",
              "    <tr>\n",
              "      <th>2020-11-12</th>\n",
              "      <td>29311.830078</td>\n",
              "      <td>28902.130859</td>\n",
              "      <td>29231.910156</td>\n",
              "      <td>29080.169922</td>\n",
              "      <td>369320000</td>\n",
              "      <td>29080.169922</td>\n",
              "    </tr>\n",
              "  </tbody>\n",
              "</table>\n",
              "</div>"
            ],
            "text/plain": [
              "                    High           Low  ...     Volume     Adj Close\n",
              "Date                                    ...                         \n",
              "2020-11-06  28431.960938  28189.500000  ...  326710000  28323.400391\n",
              "2020-11-09  29933.830078  29130.660156  ...  673310000  29157.970703\n",
              "2020-11-10  29478.859375  29126.990234  ...  526980000  29420.919922\n",
              "2020-11-11  29593.109375  29281.220703  ...  376700000  29397.630859\n",
              "2020-11-12  29311.830078  28902.130859  ...  369320000  29080.169922\n",
              "\n",
              "[5 rows x 6 columns]"
            ]
          },
          "metadata": {
            "tags": []
          },
          "execution_count": 3
        }
      ]
    },
    {
      "cell_type": "code",
      "metadata": {
        "id": "aF-oMsxXw8JV",
        "outputId": "25edad8f-26f5-4493-efb8-1ab6302cf709",
        "colab": {
          "base_uri": "https://localhost:8080/"
        }
      },
      "source": [
        "dataset.info()"
      ],
      "execution_count": 4,
      "outputs": [
        {
          "output_type": "stream",
          "text": [
            "<class 'pandas.core.frame.DataFrame'>\n",
            "DatetimeIndex: 5251 entries, 2000-01-03 to 2020-11-12\n",
            "Data columns (total 6 columns):\n",
            " #   Column     Non-Null Count  Dtype  \n",
            "---  ------     --------------  -----  \n",
            " 0   High       5251 non-null   float64\n",
            " 1   Low        5251 non-null   float64\n",
            " 2   Open       5251 non-null   float64\n",
            " 3   Close      5251 non-null   float64\n",
            " 4   Volume     5251 non-null   int64  \n",
            " 5   Adj Close  5251 non-null   float64\n",
            "dtypes: float64(5), int64(1)\n",
            "memory usage: 287.2 KB\n"
          ],
          "name": "stdout"
        }
      ]
    },
    {
      "cell_type": "markdown",
      "metadata": {
        "id": "EU60XxAFDXms"
      },
      "source": [
        "Plot DJIE price histroy"
      ]
    },
    {
      "cell_type": "code",
      "metadata": {
        "id": "jhynvWbtDOsN",
        "outputId": "46e5c4f8-c9db-4c20-ca17-3e923d5b6270",
        "colab": {
          "base_uri": "https://localhost:8080/",
          "height": 390
        }
      },
      "source": [
        "dataset.index.name='date'\n",
        "import matplotlib.pyplot as plt\n",
        "plt.figure(figsize=(12,6))\n",
        "plt.plot(dataset['Close'])\n",
        "plt.title('DJIE price history')\n",
        "plt.ylabel('Price (USD')\n",
        "plt.legend(['Close'],loc='best')\n",
        "plt.show()"
      ],
      "execution_count": 5,
      "outputs": [
        {
          "output_type": "display_data",
          "data": {
            "image/png": "[encoded data removed]",
            "text/plain": [
              "<Figure size 864x432 with 1 Axes>"
            ]
          },
          "metadata": {
            "tags": [],
            "needs_background": "light"
          }
        }
      ]
    },
    {
      "cell_type": "code",
      "metadata": {
        "id": "KjyfqHFGFq8O",
        "outputId": "c21b0c89-75be-430e-f0df-23d938941f04",
        "colab": {
          "base_uri": "https://localhost:8080/"
        }
      },
      "source": [
        "data=dataset.copy()\n",
        "#resetting index\n",
        "df=data.reset_index()['Close']\n",
        "df.shape\n"
      ],
      "execution_count": 6,
      "outputs": [
        {
          "output_type": "execute_result",
          "data": {
            "text/plain": [
              "(5251,)"
            ]
          },
          "metadata": {
            "tags": []
          },
          "execution_count": 6
        }
      ]
    },
    {
      "cell_type": "markdown",
      "metadata": {
        "id": "vbogN_m6mTr1"
      },
      "source": [
        "Data Normalization"
      ]
    },
    {
      "cell_type": "code",
      "metadata": {
        "id": "wFo-QAgdmXzV",
        "outputId": "d1ef29c4-f3d9-417c-88a4-7c3ee858919a",
        "colab": {
          "base_uri": "https://localhost:8080/"
        }
      },
      "source": [
        "import numpy as np\n",
        "from sklearn.preprocessing import MinMaxScaler\n",
        "scaler=MinMaxScaler(feature_range=(0,1))\n",
        "df1=scaler.fit_transform(np.array(df).reshape(-1,1))\n",
        "print(df1)"
      ],
      "execution_count": 7,
      "outputs": [
        {
          "output_type": "stream",
          "text": [
            "[[0.2091107 ]\n",
            " [0.19347975]\n",
            " [0.19890136]\n",
            " ...\n",
            " [0.99432716]\n",
            " [0.99331479]\n",
            " [0.97951476]]\n"
          ],
          "name": "stdout"
        }
      ]
    },
    {
      "cell_type": "markdown",
      "metadata": {
        "id": "crmNLdTXQ6a9"
      },
      "source": [
        "Split training and testing data"
      ]
    },
    {
      "cell_type": "code",
      "metadata": {
        "id": "LKyFifHvQ9OR"
      },
      "source": [
        "training_size=int(len(df1)*0.8)\n",
        "test_size=len(df1)-training_size\n",
        "\n",
        "train_data,test_data=df1[0:training_size,:],df1[training_size:len(df1),:1]"
      ],
      "execution_count": 8,
      "outputs": []
    },
    {
      "cell_type": "code",
      "metadata": {
        "id": "YcJKSAaFT0XH",
        "outputId": "441f5a77-0123-4478-a7da-6d80c4c03b3b",
        "colab": {
          "base_uri": "https://localhost:8080/"
        }
      },
      "source": [
        "train_data"
      ],
      "execution_count": 9,
      "outputs": [
        {
          "output_type": "execute_result",
          "data": {
            "text/plain": [
              "array([[0.2091107 ],\n",
              "       [0.19347975],\n",
              "       [0.19890136],\n",
              "       ...,\n",
              "       [0.51872146],\n",
              "       [0.50157424],\n",
              "       [0.51199057]])"
            ]
          },
          "metadata": {
            "tags": []
          },
          "execution_count": 9
        }
      ]
    },
    {
      "cell_type": "code",
      "metadata": {
        "id": "vkiBS1zqBfHZ",
        "outputId": "6923ccb2-841f-484d-9568-3ddac36a99bb",
        "colab": {
          "base_uri": "https://localhost:8080/"
        }
      },
      "source": [
        "print(train_data.shape,test_data.shape)"
      ],
      "execution_count": 10,
      "outputs": [
        {
          "output_type": "stream",
          "text": [
            "(4200, 1) (1051, 1)\n"
          ],
          "name": "stdout"
        }
      ]
    },
    {
      "cell_type": "markdown",
      "metadata": {
        "id": "8ktTuB9IWjvM"
      },
      "source": [
        "Data preparation"
      ]
    },
    {
      "cell_type": "code",
      "metadata": {
        "id": "mfxI0hQIq2Wi"
      },
      "source": [
        "import numpy as np\n",
        "def create_dataset(dataset,time_step=1):\n",
        "  dataX,dataY=[],[]\n",
        "  for i in range(len(dataset)-time_step-1):\n",
        "    a=dataset[i:(i+time_step),0]\n",
        "    dataX.append(a)\n",
        "    dataY.append(dataset[i+time_step,0])\n",
        "  return np.array(dataX),np.array(dataY)"
      ],
      "execution_count": 11,
      "outputs": []
    },
    {
      "cell_type": "code",
      "metadata": {
        "id": "tleyecIurlGv"
      },
      "source": [
        "#set timesteps=60 days\n",
        "time_step=60\n",
        "X_train,y_train=create_dataset(train_data,time_step)\n",
        "X_test,y_test=create_dataset(test_data,time_step)"
      ],
      "execution_count": 12,
      "outputs": []
    },
    {
      "cell_type": "code",
      "metadata": {
        "id": "p2sl7ezWsGoH",
        "outputId": "f0ef4c47-2728-4be9-86e3-96e82449b291",
        "colab": {
          "base_uri": "https://localhost:8080/"
        }
      },
      "source": [
        "print(X_train)"
      ],
      "execution_count": 13,
      "outputs": [
        {
          "output_type": "stream",
          "text": [
            "[[0.2091107  0.19347975 0.19890136 ... 0.19846968 0.19469343 0.19079247]\n",
            " [0.19347975 0.19890136 0.20457895 ... 0.19469343 0.19079247 0.1943835 ]\n",
            " [0.19890136 0.20457895 0.21628542 ... 0.19079247 0.1943835  0.19271122]\n",
            " ...\n",
            " [0.48623069 0.4837242  0.48221795 ... 0.51608677 0.5192453  0.5212518 ]\n",
            " [0.4837242  0.48221795 0.4862576  ... 0.5192453  0.5212518  0.52073109]\n",
            " [0.48221795 0.4862576  0.48373897 ... 0.5212518  0.52073109 0.51872146]]\n"
          ],
          "name": "stdout"
        }
      ]
    },
    {
      "cell_type": "code",
      "metadata": {
        "id": "4oOywzUyWlN5"
      },
      "source": [
        "#reshape input to be 3D to feed into LSTM\n",
        "X_train=X_train.reshape(X_train.shape[0],X_train.shape[1],1)\n",
        "X_test=X_test.reshape(X_test.shape[0],X_test.shape[1],1)\n"
      ],
      "execution_count": 14,
      "outputs": []
    },
    {
      "cell_type": "code",
      "metadata": {
        "id": "jaC2WpcJ4Hml",
        "outputId": "0c7512c4-718b-4dc3-e32a-5f16305cb884",
        "colab": {
          "base_uri": "https://localhost:8080/"
        }
      },
      "source": [
        "print(X_train.shape,y_train.shape)"
      ],
      "execution_count": 15,
      "outputs": [
        {
          "output_type": "stream",
          "text": [
            "(4139, 60, 1) (4139,)\n"
          ],
          "name": "stdout"
        }
      ]
    },
    {
      "cell_type": "markdown",
      "metadata": {
        "id": "caommicMXXst"
      },
      "source": [
        "Build LSTM architecture\n"
      ]
    },
    {
      "cell_type": "code",
      "metadata": {
        "id": "XMfj0nOQXbYM",
        "outputId": "515689a5-b8c1-4a6c-d843-8b23db991237",
        "colab": {
          "base_uri": "https://localhost:8080/"
        }
      },
      "source": [
        "from keras import models\n",
        "from keras.models import Sequential\n",
        "from keras.layers import Activation, Dense,LSTM, Dropout\n",
        "from keras import optimizers\n",
        "model=Sequential()\n",
        "model.add(LSTM(50,return_sequences=True,input_shape=(60,1)))\n",
        "model.add(LSTM(50,return_sequences=True))\n",
        "model.add(LSTM(50))\n",
        "model.add(Dense(1))\n",
        "model.summary()"
      ],
      "execution_count": 16,
      "outputs": [
        {
          "output_type": "stream",
          "text": [
            "Model: \"sequential\"\n",
            "_________________________________________________________________\n",
            "Layer (type)                 Output Shape              Param #   \n",
            "=================================================================\n",
            "lstm (LSTM)                  (None, 60, 50)            10400     \n",
            "_________________________________________________________________\n",
            "lstm_1 (LSTM)                (None, 60, 50)            20200     \n",
            "_________________________________________________________________\n",
            "lstm_2 (LSTM)                (None, 50)                20200     \n",
            "_________________________________________________________________\n",
            "dense (Dense)                (None, 1)                 51        \n",
            "=================================================================\n",
            "Total params: 50,851\n",
            "Trainable params: 50,851\n",
            "Non-trainable params: 0\n",
            "_________________________________________________________________\n"
          ],
          "name": "stdout"
        }
      ]
    },
    {
      "cell_type": "markdown",
      "metadata": {
        "id": "RNqoGAwTav25"
      },
      "source": [
        "compile the model"
      ]
    },
    {
      "cell_type": "code",
      "metadata": {
        "id": "bN92950Raxuy",
        "outputId": "5fbc4f87-c75e-4ed6-92ca-d1bb9ae5692f",
        "colab": {
          "base_uri": "https://localhost:8080/"
        }
      },
      "source": [
        "model.compile(optimizer='adam',\n",
        "              loss='mean_squared_error')\n",
        "\n",
        "num_epochs=50\n",
        "batch_size=64\n",
        "\n",
        "history=model.fit(X_train,y_train,\n",
        "                  validation_data=(X_test,y_test),\n",
        "                  epochs=num_epochs,\n",
        "                  batch_size=batch_size)"
      ],
      "execution_count": 17,
      "outputs": [
        {
          "output_type": "stream",
          "text": [
            "Epoch 1/50\n",
            "65/65 [==============================] - 2s 26ms/step - loss: 0.0048 - val_loss: 0.0020\n",
            "Epoch 2/50\n",
            "65/65 [==============================] - 1s 13ms/step - loss: 2.0961e-04 - val_loss: 0.0014\n",
            "Epoch 3/50\n",
            "65/65 [==============================] - 1s 12ms/step - loss: 2.1092e-04 - val_loss: 0.0016\n",
            "Epoch 4/50\n",
            "65/65 [==============================] - 1s 12ms/step - loss: 1.9404e-04 - val_loss: 0.0018\n",
            "Epoch 5/50\n",
            "65/65 [==============================] - 1s 12ms/step - loss: 1.8956e-04 - val_loss: 0.0017\n",
            "Epoch 6/50\n",
            "65/65 [==============================] - 1s 13ms/step - loss: 1.7594e-04 - val_loss: 0.0016\n",
            "Epoch 7/50\n",
            "65/65 [==============================] - 1s 14ms/step - loss: 1.8417e-04 - val_loss: 0.0012\n",
            "Epoch 8/50\n",
            "65/65 [==============================] - 1s 12ms/step - loss: 1.6399e-04 - val_loss: 0.0011\n",
            "Epoch 9/50\n",
            "65/65 [==============================] - 1s 12ms/step - loss: 1.5094e-04 - val_loss: 0.0011\n",
            "Epoch 10/50\n",
            "65/65 [==============================] - 1s 12ms/step - loss: 1.4697e-04 - val_loss: 0.0011\n",
            "Epoch 11/50\n",
            "65/65 [==============================] - 1s 13ms/step - loss: 1.6045e-04 - val_loss: 8.8311e-04\n",
            "Epoch 12/50\n",
            "65/65 [==============================] - 1s 12ms/step - loss: 1.4010e-04 - val_loss: 8.9913e-04\n",
            "Epoch 13/50\n",
            "65/65 [==============================] - 1s 12ms/step - loss: 1.3326e-04 - val_loss: 8.2080e-04\n",
            "Epoch 14/50\n",
            "65/65 [==============================] - 1s 12ms/step - loss: 1.2791e-04 - val_loss: 7.4217e-04\n",
            "Epoch 15/50\n",
            "65/65 [==============================] - 1s 12ms/step - loss: 1.2560e-04 - val_loss: 7.7207e-04\n",
            "Epoch 16/50\n",
            "65/65 [==============================] - 1s 13ms/step - loss: 1.2851e-04 - val_loss: 0.0018\n",
            "Epoch 17/50\n",
            "65/65 [==============================] - 1s 12ms/step - loss: 1.3023e-04 - val_loss: 0.0020\n",
            "Epoch 18/50\n",
            "65/65 [==============================] - 1s 12ms/step - loss: 1.2992e-04 - val_loss: 6.4923e-04\n",
            "Epoch 19/50\n",
            "65/65 [==============================] - 1s 12ms/step - loss: 1.1669e-04 - val_loss: 0.0013\n",
            "Epoch 20/50\n",
            "65/65 [==============================] - 1s 13ms/step - loss: 1.1654e-04 - val_loss: 7.3590e-04\n",
            "Epoch 21/50\n",
            "65/65 [==============================] - 1s 13ms/step - loss: 1.0394e-04 - val_loss: 5.6410e-04\n",
            "Epoch 22/50\n",
            "65/65 [==============================] - 1s 12ms/step - loss: 9.9410e-05 - val_loss: 5.2319e-04\n",
            "Epoch 23/50\n",
            "65/65 [==============================] - 1s 12ms/step - loss: 1.0434e-04 - val_loss: 6.0280e-04\n",
            "Epoch 24/50\n",
            "65/65 [==============================] - 1s 12ms/step - loss: 9.6093e-05 - val_loss: 7.8630e-04\n",
            "Epoch 25/50\n",
            "65/65 [==============================] - 1s 13ms/step - loss: 9.7234e-05 - val_loss: 8.3408e-04\n",
            "Epoch 26/50\n",
            "65/65 [==============================] - 1s 13ms/step - loss: 9.9362e-05 - val_loss: 7.7026e-04\n",
            "Epoch 27/50\n",
            "65/65 [==============================] - 1s 15ms/step - loss: 9.0247e-05 - val_loss: 5.6030e-04\n",
            "Epoch 28/50\n",
            "65/65 [==============================] - 1s 13ms/step - loss: 1.0612e-04 - val_loss: 8.2919e-04\n",
            "Epoch 29/50\n",
            "65/65 [==============================] - 1s 12ms/step - loss: 9.8854e-05 - val_loss: 4.8155e-04\n",
            "Epoch 30/50\n",
            "65/65 [==============================] - 1s 13ms/step - loss: 9.2179e-05 - val_loss: 9.9578e-04\n",
            "Epoch 31/50\n",
            "65/65 [==============================] - 1s 12ms/step - loss: 8.7663e-05 - val_loss: 8.6354e-04\n",
            "Epoch 32/50\n",
            "65/65 [==============================] - 1s 13ms/step - loss: 8.0243e-05 - val_loss: 6.3793e-04\n",
            "Epoch 33/50\n",
            "65/65 [==============================] - 1s 12ms/step - loss: 8.3553e-05 - val_loss: 4.0717e-04\n",
            "Epoch 34/50\n",
            "65/65 [==============================] - 1s 15ms/step - loss: 8.2242e-05 - val_loss: 3.8906e-04\n",
            "Epoch 35/50\n",
            "65/65 [==============================] - 1s 14ms/step - loss: 7.7385e-05 - val_loss: 6.5460e-04\n",
            "Epoch 36/50\n",
            "65/65 [==============================] - 1s 14ms/step - loss: 7.6313e-05 - val_loss: 6.3365e-04\n",
            "Epoch 37/50\n",
            "65/65 [==============================] - 1s 13ms/step - loss: 8.5579e-05 - val_loss: 4.2667e-04\n",
            "Epoch 38/50\n",
            "65/65 [==============================] - 1s 13ms/step - loss: 8.5926e-05 - val_loss: 7.5733e-04\n",
            "Epoch 39/50\n",
            "65/65 [==============================] - 1s 13ms/step - loss: 7.4776e-05 - val_loss: 6.6631e-04\n",
            "Epoch 40/50\n",
            "65/65 [==============================] - 1s 13ms/step - loss: 7.2263e-05 - val_loss: 0.0014\n",
            "Epoch 41/50\n",
            "65/65 [==============================] - 1s 13ms/step - loss: 7.7141e-05 - val_loss: 4.0389e-04\n",
            "Epoch 42/50\n",
            "65/65 [==============================] - 1s 13ms/step - loss: 7.1182e-05 - val_loss: 3.2525e-04\n",
            "Epoch 43/50\n",
            "65/65 [==============================] - 1s 13ms/step - loss: 8.1840e-05 - val_loss: 4.0083e-04\n",
            "Epoch 44/50\n",
            "65/65 [==============================] - 1s 14ms/step - loss: 6.7068e-05 - val_loss: 8.6339e-04\n",
            "Epoch 45/50\n",
            "65/65 [==============================] - 1s 15ms/step - loss: 7.1720e-05 - val_loss: 3.3344e-04\n",
            "Epoch 46/50\n",
            "65/65 [==============================] - 1s 14ms/step - loss: 6.4660e-05 - val_loss: 3.5649e-04\n",
            "Epoch 47/50\n",
            "65/65 [==============================] - 1s 14ms/step - loss: 6.1597e-05 - val_loss: 7.8601e-04\n",
            "Epoch 48/50\n",
            "65/65 [==============================] - 1s 13ms/step - loss: 6.1054e-05 - val_loss: 5.8468e-04\n",
            "Epoch 49/50\n",
            "65/65 [==============================] - 1s 14ms/step - loss: 6.0212e-05 - val_loss: 2.9732e-04\n",
            "Epoch 50/50\n",
            "65/65 [==============================] - 1s 14ms/step - loss: 6.1979e-05 - val_loss: 5.1971e-04\n"
          ],
          "name": "stdout"
        }
      ]
    },
    {
      "cell_type": "code",
      "metadata": {
        "id": "AHU3byE0umt-",
        "outputId": "f55aee5e-35bd-4e9b-d0be-d29088505a26",
        "colab": {
          "base_uri": "https://localhost:8080/",
          "height": 347
        }
      },
      "source": [
        "plt.plot(history.history['loss'])\n",
        "plt.plot(history.history['val_loss'])\n",
        "plt.title(\"Model loss\")\n",
        "plt.ylabel(\"MSE loss\")\n",
        "plt.xlabel(\"Epoch\")\n",
        "plt.legend(['loss','val_loss'],loc='best')\n",
        "axes = plt.axes()\n",
        "axes.set_ylim([0, 0.01])\n",
        "plt.show()"
      ],
      "execution_count": 18,
      "outputs": [
        {
          "output_type": "stream",
          "text": [
            "/usr/local/lib/python3.6/dist-packages/ipykernel_launcher.py:7: MatplotlibDeprecationWarning: Adding an axes using the same arguments as a previous axes currently reuses the earlier instance.  In a future version, a new instance will always be created and returned.  Meanwhile, this warning can be suppressed, and the future behavior ensured, by passing a unique label to each axes instance.\n",
            "  import sys\n"
          ],
          "name": "stderr"
        },
        {
          "output_type": "display_data",
          "data": {
            "image/png": "[encoded data removed]",
            "text/plain": [
              "<Figure size 432x288 with 1 Axes>"
            ]
          },
          "metadata": {
            "tags": [],
            "needs_background": "light"
          }
        }
      ]
    },
    {
      "cell_type": "code",
      "metadata": {
        "id": "oveyHkGwpqw-"
      },
      "source": [
        "#prediction and check performance\n",
        "train_pred=model.predict(X_train)\n",
        "test_pred=model.predict(X_test)"
      ],
      "execution_count": 19,
      "outputs": []
    },
    {
      "cell_type": "code",
      "metadata": {
        "id": "yVI1QvNBvhKo"
      },
      "source": [
        "#transform back to original form\n",
        "train_pred=scaler.inverse_transform(train_pred)\n",
        "test_pred=scaler.inverse_transform(test_pred)\n"
      ],
      "execution_count": 20,
      "outputs": []
    },
    {
      "cell_type": "code",
      "metadata": {
        "id": "56hzObDQv887",
        "outputId": "c8255694-313d-416a-a26a-886c2abddff8",
        "colab": {
          "base_uri": "https://localhost:8080/"
        }
      },
      "source": [
        "#calculate MSE performance matrics\n",
        "import math\n",
        "from sklearn.metrics import mean_squared_error\n",
        "mean_squared_error(y_train,train_pred)\n"
      ],
      "execution_count": 21,
      "outputs": [
        {
          "output_type": "execute_result",
          "data": {
            "text/plain": [
              "154074106.8377077"
            ]
          },
          "metadata": {
            "tags": []
          },
          "execution_count": 21
        }
      ]
    },
    {
      "cell_type": "code",
      "metadata": {
        "id": "5sb7zAIuwhb_",
        "outputId": "217789cc-8136-4107-8822-d04188461113",
        "colab": {
          "base_uri": "https://localhost:8080/"
        }
      },
      "source": [
        "#test data MSE\n",
        "mean_squared_error(y_test,test_pred)"
      ],
      "execution_count": 22,
      "outputs": [
        {
          "output_type": "execute_result",
          "data": {
            "text/plain": [
              "601634569.7247504"
            ]
          },
          "metadata": {
            "tags": []
          },
          "execution_count": 22
        }
      ]
    },
    {
      "cell_type": "code",
      "metadata": {
        "id": "fBBDMHDCKhJg",
        "outputId": "44182dad-801b-452a-a571-a5a0a504e4e2",
        "colab": {
          "base_uri": "https://localhost:8080/",
          "height": 265
        }
      },
      "source": [
        "##plotting\n",
        "look_back=60\n",
        "trainPredictPlot=np.empty_like(df1)\n",
        "trainPredictPlot[:,:]=np.nan\n",
        "trainPredictPlot[look_back:len(train_pred)+look_back,:]=train_pred\n",
        "\n",
        "testPredictPlot=np.empty_like(df1)\n",
        "testPredictPlot[:,:]=np.nan\n",
        "testPredictPlot[len(train_pred)+(look_back*2)+1:len(df1)-1,:]=test_pred\n",
        "\n",
        "plt.plot(scaler.inverse_transform(df1))\n",
        "plt.plot(trainPredictPlot)\n",
        "plt.plot(testPredictPlot)\n",
        "plt.show()"
      ],
      "execution_count": 23,
      "outputs": [
        {
          "output_type": "display_data",
          "data": {
            "image/png": "[encoded data removed]",
            "text/plain": [
              "<Figure size 432x288 with 1 Axes>"
            ]
          },
          "metadata": {
            "tags": [],
            "needs_background": "light"
          }
        }
      ]
    },
    {
      "cell_type": "code",
      "metadata": {
        "id": "-hk52s0EMQz3",
        "outputId": "7dc51bc2-1bb4-4a05-f08e-e457f0922d37",
        "colab": {
          "base_uri": "https://localhost:8080/"
        }
      },
      "source": [
        "len(test_data)"
      ],
      "execution_count": 24,
      "outputs": [
        {
          "output_type": "execute_result",
          "data": {
            "text/plain": [
              "1051"
            ]
          },
          "metadata": {
            "tags": []
          },
          "execution_count": 24
        }
      ]
    },
    {
      "cell_type": "code",
      "metadata": {
        "id": "33vdN82KMbLr",
        "outputId": "5df820a1-8ae6-498c-c104-61b5c956a097",
        "colab": {
          "base_uri": "https://localhost:8080/"
        }
      },
      "source": [
        "x_input=test_data[len(test_data)-61:].reshape(1,-1)\n",
        "x_input.shape"
      ],
      "execution_count": 42,
      "outputs": [
        {
          "output_type": "execute_result",
          "data": {
            "text/plain": [
              "(1, 61)"
            ]
          },
          "metadata": {
            "tags": []
          },
          "execution_count": 42
        }
      ]
    },
    {
      "cell_type": "code",
      "metadata": {
        "id": "x62Eg7f4MtsI"
      },
      "source": [
        "temp_input=x_input\n",
        "temp_input=temp_input[0].tolist()"
      ],
      "execution_count": 43,
      "outputs": []
    },
    {
      "cell_type": "markdown",
      "metadata": {
        "id": "CNFyeDqa6bBo"
      },
      "source": [
        "# get prediction for 5 days after"
      ]
    },
    {
      "cell_type": "code",
      "metadata": {
        "id": "9r4XG5NBNFSz",
        "outputId": "d1d76bbf-0749-4c23-bfa7-1884d43e3729",
        "colab": {
          "base_uri": "https://localhost:8080/"
        }
      },
      "source": [
        "from numpy import array\n",
        "\n",
        "lst_output=[]\n",
        "n_steps=60\n",
        "i=0\n",
        "day5_pred=[]\n",
        "while(i<5):\n",
        "\n",
        "  if(len(temp_input)>60):\n",
        "    x_input=np.array(temp_input[1:])\n",
        "    print('{} day input {}'.format(i,x_input))\n",
        "    x_input=x_input.reshape(1,-1)\n",
        "    x_input=x_input.reshape((1,n_steps,1))\n",
        "    yhat=model.predict(x_input,verbose=0)\n",
        "    print(\"{} day output {}\".format(i,yhat))\n",
        "    temp_input.extend(yhat[0].tolist())\n",
        "    temp_input=temp_input[1:]\n",
        "    lst_output.extend(yhat.tolist())\n",
        "    i=i+1\n",
        "\n",
        "  else:\n",
        "    x_input=x_input.reshape((1,n_steps,1))\n",
        "    yhat=model.predict(x_input,verbose=0)\n",
        "    print(yhat[0])\n",
        "    temp_input.extend(yhat[0].tolist())\n",
        "    print(len(temp_input))\n",
        "    lst_output.extend(yhat.tolist())\n",
        "    i=i+1\n",
        "\n",
        "print(lst_output)"
      ],
      "execution_count": 44,
      "outputs": [
        {
          "output_type": "stream",
          "text": [
            "0 day input [0.92124586 0.92953122 0.94596857 0.94335944 0.94698833 0.95395873\n",
            " 0.96098347 0.95125408 0.96062662 0.98039851 0.94528477 0.93835478\n",
            " 0.91086349 0.92997204 0.91232797 0.91802517 0.93226983 0.93236849\n",
            " 0.93396737 0.92829886 0.91766782 0.89551026 0.90161694 0.87879307\n",
            " 0.88106693 0.89665185 0.91447889 0.90876691 0.92307024 0.92460043\n",
            " 0.91877155 0.93902118 0.92268164 0.94575122 0.95105668 0.95807233\n",
            " 0.96896675 0.96211114 0.95490335 0.95404261 0.95891609 0.94105468\n",
            " 0.94598283 0.94172413 0.94836808 0.94714702 0.91888328 0.90922462\n",
            " 0.86822196 0.87427126 0.86742431 0.88583173 0.90995665 0.92593756\n",
            " 0.94952089 0.94661799 0.98289676 0.99432716 0.99331479 0.97951476]\n",
            "0 day output [[0.95019186]]\n",
            "1 day input [0.92953122 0.94596857 0.94335944 0.94698833 0.95395873 0.96098347\n",
            " 0.95125408 0.96062662 0.98039851 0.94528477 0.93835478 0.91086349\n",
            " 0.92997204 0.91232797 0.91802517 0.93226983 0.93236849 0.93396737\n",
            " 0.92829886 0.91766782 0.89551026 0.90161694 0.87879307 0.88106693\n",
            " 0.89665185 0.91447889 0.90876691 0.92307024 0.92460043 0.91877155\n",
            " 0.93902118 0.92268164 0.94575122 0.95105668 0.95807233 0.96896675\n",
            " 0.96211114 0.95490335 0.95404261 0.95891609 0.94105468 0.94598283\n",
            " 0.94172413 0.94836808 0.94714702 0.91888328 0.90922462 0.86822196\n",
            " 0.87427126 0.86742431 0.88583173 0.90995665 0.92593756 0.94952089\n",
            " 0.94661799 0.98289676 0.99432716 0.99331479 0.97951476 0.95019186]\n",
            "1 day output [[0.93039703]]\n",
            "2 day input [0.94596857 0.94335944 0.94698833 0.95395873 0.96098347 0.95125408\n",
            " 0.96062662 0.98039851 0.94528477 0.93835478 0.91086349 0.92997204\n",
            " 0.91232797 0.91802517 0.93226983 0.93236849 0.93396737 0.92829886\n",
            " 0.91766782 0.89551026 0.90161694 0.87879307 0.88106693 0.89665185\n",
            " 0.91447889 0.90876691 0.92307024 0.92460043 0.91877155 0.93902118\n",
            " 0.92268164 0.94575122 0.95105668 0.95807233 0.96896675 0.96211114\n",
            " 0.95490335 0.95404261 0.95891609 0.94105468 0.94598283 0.94172413\n",
            " 0.94836808 0.94714702 0.91888328 0.90922462 0.86822196 0.87427126\n",
            " 0.86742431 0.88583173 0.90995665 0.92593756 0.94952089 0.94661799\n",
            " 0.98289676 0.99432716 0.99331479 0.97951476 0.95019186 0.93039703]\n",
            "2 day output [[0.9085032]]\n",
            "3 day input [0.94335944 0.94698833 0.95395873 0.96098347 0.95125408 0.96062662\n",
            " 0.98039851 0.94528477 0.93835478 0.91086349 0.92997204 0.91232797\n",
            " 0.91802517 0.93226983 0.93236849 0.93396737 0.92829886 0.91766782\n",
            " 0.89551026 0.90161694 0.87879307 0.88106693 0.89665185 0.91447889\n",
            " 0.90876691 0.92307024 0.92460043 0.91877155 0.93902118 0.92268164\n",
            " 0.94575122 0.95105668 0.95807233 0.96896675 0.96211114 0.95490335\n",
            " 0.95404261 0.95891609 0.94105468 0.94598283 0.94172413 0.94836808\n",
            " 0.94714702 0.91888328 0.90922462 0.86822196 0.87427126 0.86742431\n",
            " 0.88583173 0.90995665 0.92593756 0.94952089 0.94661799 0.98289676\n",
            " 0.99432716 0.99331479 0.97951476 0.95019186 0.93039703 0.90850317]\n",
            "3 day output [[0.8880805]]\n",
            "4 day input [0.94698833 0.95395873 0.96098347 0.95125408 0.96062662 0.98039851\n",
            " 0.94528477 0.93835478 0.91086349 0.92997204 0.91232797 0.91802517\n",
            " 0.93226983 0.93236849 0.93396737 0.92829886 0.91766782 0.89551026\n",
            " 0.90161694 0.87879307 0.88106693 0.89665185 0.91447889 0.90876691\n",
            " 0.92307024 0.92460043 0.91877155 0.93902118 0.92268164 0.94575122\n",
            " 0.95105668 0.95807233 0.96896675 0.96211114 0.95490335 0.95404261\n",
            " 0.95891609 0.94105468 0.94598283 0.94172413 0.94836808 0.94714702\n",
            " 0.91888328 0.90922462 0.86822196 0.87427126 0.86742431 0.88583173\n",
            " 0.90995665 0.92593756 0.94952089 0.94661799 0.98289676 0.99432716\n",
            " 0.99331479 0.97951476 0.95019186 0.93039703 0.90850317 0.88808048]\n",
            "4 day output [[0.87029815]]\n",
            "[[0.950191855430603], [0.9303970336914062], [0.9085031747817993], [0.8880804777145386], [0.8702981472015381]]\n"
          ],
          "name": "stdout"
        }
      ]
    },
    {
      "cell_type": "code",
      "metadata": {
        "id": "pPi6duB37I6d",
        "outputId": "fc7246b8-0908-411e-8cb1-d24fa497bc82",
        "colab": {
          "base_uri": "https://localhost:8080/"
        }
      },
      "source": [
        "#prediction result for 5 days after\n",
        "pre_5days=[[0.8759302496910095], [0.8617682456970215], [0.835831880569458], [0.816233217716217], [0.8038196563720703]]\n",
        "pre_5days=scaler.inverse_transform(pre_5days)\n",
        "print(pre_5days)"
      ],
      "execution_count": 31,
      "outputs": [
        {
          "output_type": "stream",
          "text": [
            "[[26697.27346542]\n",
            " [26371.48548394]\n",
            " [25774.83574105]\n",
            " [25323.98084697]\n",
            " [25038.41468734]]\n"
          ],
          "name": "stdout"
        }
      ]
    },
    {
      "cell_type": "code",
      "metadata": {
        "id": "WieM4l-ZUdcT"
      },
      "source": [
        "day_new=np.arange(1,61)\n",
        "day_pred=np.arange(61,66)"
      ],
      "execution_count": 32,
      "outputs": []
    },
    {
      "cell_type": "code",
      "metadata": {
        "id": "o9ivPxTkUkZr",
        "outputId": "ae8f5411-2517-420a-c41d-de4afd1ba321",
        "colab": {
          "base_uri": "https://localhost:8080/"
        }
      },
      "source": [
        "len(df1)"
      ],
      "execution_count": 33,
      "outputs": [
        {
          "output_type": "execute_result",
          "data": {
            "text/plain": [
              "5251"
            ]
          },
          "metadata": {
            "tags": []
          },
          "execution_count": 33
        }
      ]
    },
    {
      "cell_type": "code",
      "metadata": {
        "id": "SYxkq7d7UmvZ",
        "outputId": "17dfcc6b-1fcf-41d5-f414-7f7ea01c9fcb",
        "colab": {
          "base_uri": "https://localhost:8080/",
          "height": 281
        }
      },
      "source": [
        "#plotting 5 days after prediction\n",
        "plt.plot(day_new,scaler.inverse_transform(df1[len(df1)-60:]))\n",
        "plt.plot(day_pred,scaler.inverse_transform(lst_output))"
      ],
      "execution_count": 45,
      "outputs": [
        {
          "output_type": "execute_result",
          "data": {
            "text/plain": [
              "[<matplotlib.lines.Line2D at 0x7fcac8d1b2b0>]"
            ]
          },
          "metadata": {
            "tags": []
          },
          "execution_count": 45
        },
        {
          "output_type": "display_data",
          "data": {
            "image/png": "[encoded data removed]",
            "text/plain": [
              "<Figure size 432x288 with 1 Axes>"
            ]
          },
          "metadata": {
            "tags": [],
            "needs_background": "light"
          }
        }
      ]
    },
    {
      "cell_type": "code",
      "metadata": {
        "id": "5mAo9AiyU_kC",
        "outputId": "2e6820bb-3ab1-497c-c7ee-e3973b5e8f7d",
        "colab": {
          "base_uri": "https://localhost:8080/",
          "height": 281
        }
      },
      "source": [
        "##plotting whole prediction results\n",
        "df3=df1.tolist()\n",
        "df3.extend(lst_output)\n",
        "df3=scaler.inverse_transform(df3).tolist()\n",
        "plt.plot(df3)"
      ],
      "execution_count": 46,
      "outputs": [
        {
          "output_type": "execute_result",
          "data": {
            "text/plain": [
              "[<matplotlib.lines.Line2D at 0x7fcac8c9c128>]"
            ]
          },
          "metadata": {
            "tags": []
          },
          "execution_count": 46
        },
        {
          "output_type": "display_data",
          "data": {
            "image/png": "[encoded data removed]",
            "text/plain": [
              "<Figure size 432x288 with 1 Axes>"
            ]
          },
          "metadata": {
            "tags": [],
            "needs_background": "light"
          }
        }
      ]
    }
  ]
}